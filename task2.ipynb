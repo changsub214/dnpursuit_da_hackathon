{
  "cells": [
    {
      "cell_type": "markdown",
      "metadata": {
        "id": "Ge_ZoYKBZ5MC"
      },
      "source": [
        "## 환경 초기 설정"
      ]
    },
    {
      "cell_type": "markdown",
      "metadata": {
        "id": "p920QR2pqFHi"
      },
      "source": [
        "**중요: 아래 셀에 현재 실습에서 사용하는 Google Cloud 프로젝트 ID를 반드시 입력해야 합니다. 이 값은 실습 환경 내의 모든 리소스에 액세스하기 위한 필수 값입니다. 이 노트북에서 첫 번째로 실행해야 하는 셀입니다.**\n",
        "\n"
      ]
    },
    {
      "cell_type": "code",
      "execution_count": null,
      "metadata": {
        "id": "qieTeFLeqDFN"
      },
      "outputs": [],
      "source": [
        "# 이 셀에 프로젝트 아이디를 입력합니다.\n",
        "PROJECT_ID = 'your-gcp-project' # <-- 여기에 프로젝트 ID를 입력해주세요!\n",
        "\n",
        "# PROJECT_ID가 공란이 아니도록 확인합니다. 공란일 경우 에러가 발생합니다.\n",
        "if not PROJECT_ID:\n",
        "    raise ValueError(\"ERROR: PROJECT_ID is not set. Please enter your Project ID above.\")\n",
        "\n",
        "print(f\"Project ID set to: {PROJECT_ID}\")"
      ]
    },
    {
      "cell_type": "markdown",
      "metadata": {
        "id": "P4QrZWPHqHR7"
      },
      "source": [
        "이제 이 셀을 실행하여 태스크 2 환경을 초기화합니다. 이 셀은 태스크 2에 필요한 라이브러리를 가져오고, BigQuery 클라이언트를 초기화하며, 사용할 주요 변수(테이블 ID 등)를 정의합니다."
      ]
    },
    {
      "cell_type": "code",
      "execution_count": null,
      "metadata": {
        "id": "npJfVsVLQb0U"
      },
      "outputs": [],
      "source": [
        "# 태스크 2에 필요한 라이브러리를 가져오고 클라이언트 및 변수를 초기화합니다.\n",
        "from google.cloud import bigquery\n",
        "import pandas as pd\n",
        "import pandas_gbq\n",
        "from IPython.display import display\n",
        "\n",
        "# 위의 셀에 PROJECT_ID가 정의되어 있는지 확인\n",
        "# 이 셀을 실행하기 전, 위에서 프로젝트 ID를 입력하는 셀을 반드시 실행해야 합니다.\n",
        "if 'PROJECT_ID' not in locals() or not PROJECT_ID:\n",
        "    raise ValueError(\"ERROR: PROJECT_ID is not set. Please run the 'Set Your Project ID' cell above first.\")\n",
        "\n",
        "client = bigquery.Client(project=PROJECT_ID, location=\"us-central1\")\n",
        "\n",
        "DATASET_ID = 'cymbal'\n",
        "\n",
        "TABLE_ID_CUSTOMERS = f\"{PROJECT_ID}.{DATASET_ID}.customers\"\n",
        "table_id_multimodal_reviews = f\"{PROJECT_ID}.{DATASET_ID}.multimodal_customer_reviews\"\n",
        "GEMINI_MODEL_NAME = f'{PROJECT_ID}.{DATASET_ID}.gemini_flash_model'\n",
        "table_id_segment_level_analysis = f\"{PROJECT_ID}.{DATASET_ID}.segment_level_gemini_analysis\"\n",
        "\n",
        "print(f\"BigQuery Client Initialized for Project ID: {PROJECT_ID}\")\n",
        "\n",
        "def run_bq_query(sql: str, client: bigquery.Client):\n",
        "    try:\n",
        "        query_job = client.query(sql)\n",
        "        print(f\"Job {query_job.job_id} in state {query_job.state}\")\n",
        "        if query_job.statement_type == 'SELECT':\n",
        "            df = query_job.to_dataframe()\n",
        "            print(f\"Query complete. Fetched {len(df)} rows.\")\n",
        "            return df\n",
        "        else:\n",
        "            query_job.result()\n",
        "            print(f\"Query for statement type {query_job.statement_type} complete.\")\n",
        "            return None\n",
        "    except Exception as e:\n",
        "        print(f\"An error occurred: {e}\")\n",
        "        return None"
      ]
    },
    {
      "cell_type": "markdown",
      "metadata": {
        "id": "lVSkUbQNaXYQ"
      },
      "source": [
        "## 고객 데모그래픽 테이블 확인"
      ]
    },
    {
      "cell_type": "code",
      "execution_count": null,
      "metadata": {
        "id": "iWnvzDveaI9p"
      },
      "outputs": [],
      "source": [
        "%%bigquery\n",
        "SELECT customer_id, first_name, age, gender, loyalty_member FROM `cymbal.customers` LIMIT 5"
      ]
    },
    {
      "cell_type": "markdown",
      "metadata": {
        "id": "u2m_dZwMaihn"
      },
      "source": [
        "## 페르소나 프로필 식별\n",
        "### 이 쿼리는 페르소나 프로필로 사용할 고객 속성의 고유한 조합을 식별합니다."
      ]
    },
    {
      "cell_type": "code",
      "execution_count": null,
      "metadata": {
        "id": "N-0_n3EhQfmw"
      },
      "outputs": [],
      "source": [
        "sql_get_profiles = f\"\"\"\n",
        "WITH EnrichedData AS (\n",
        "    SELECT\n",
        "        c.customer_id,\n",
        "        JSON_EXTRACT_SCALAR(mcr.sentiment_json_string, '$.sentiment') as text_sentiment,\n",
        "        CASE\n",
        "            WHEN c.age < 40 THEN 'Younger_Adult'\n",
        "            ELSE 'Older_Adult'\n",
        "        END AS age_group,\n",
        "        UPPER(c.gender) as gender,\n",
        "        IF(c.loyalty_member, 'LOYAL', 'NON_LOYAL') as loyalty_status\n",
        "    FROM `{table_id_multimodal_reviews}` AS mcr\n",
        "    JOIN `{TABLE_ID_CUSTOMERS}` AS c ON mcr.customer_id = c.customer_id\n",
        "    WHERE c.age IS NOT NULL AND c.gender IS NOT NULL AND c.loyalty_member IS NOT NULL\n",
        ")\n",
        "SELECT DISTINCT\n",
        "    CONCAT(age_group, '_', gender, '_', loyalty_status) as persona_age_group_profile\n",
        "FROM EnrichedData\n",
        "ORDER BY 1;\n",
        "\"\"\"\n",
        "print(f\"Identifying unique segment profiles for Gemini analysis...\")\n",
        "df_profiles = run_bq_query(sql_get_profiles, client)\n",
        "if df_profiles is not None:\n",
        "    display(df_profiles)"
      ]
    },
    {
      "cell_type": "code",
      "execution_count": null,
      "metadata": {
        "id": "IVAs36yjQesS"
      },
      "outputs": [],
      "source": [
        "DESTINATION_TABLE = f\"{PROJECT_ID}.{DATASET_ID}.unique_segment_profiles\"\n",
        "\n",
        "sql_get_profiles = f\"\"\"\n",
        "WITH EnrichedData AS (\n",
        "    SELECT\n",
        "        c.customer_id,\n",
        "        c.age,\n",
        "        UPPER(c.gender) as gender,\n",
        "        IF(c.loyalty_member, 'LOYAL', 'NON_LOYAL') as loyalty_status,\n",
        "        JSON_EXTRACT_SCALAR(mcr.sentiment_json_string, '$.sentiment') as text_sentiment,\n",
        "        # Add a new column 'age_group'\n",
        "        CASE\n",
        "            WHEN c.age < 40 THEN 'Younger_Adult'\n",
        "            ELSE 'Older_Adult'\n",
        "        END AS age_group\n",
        "    FROM `{table_id_multimodal_reviews}` AS mcr\n",
        "    JOIN `{TABLE_ID_CUSTOMERS}` AS c ON mcr.customer_id = c.customer_id\n",
        "    WHERE c.age IS NOT NULL AND c.gender IS NOT NULL AND c.loyalty_member IS NOT NULL\n",
        ")\n",
        "SELECT\n",
        "    # Select all original columns and the new calculated column\n",
        "    customer_id,\n",
        "    age,\n",
        "    gender,\n",
        "    loyalty_status,\n",
        "    text_sentiment,\n",
        "    age_group,\n",
        "    CONCAT(age_group, '_', gender, '_', loyalty_status) as persona_age_group_profile\n",
        "FROM EnrichedData\n",
        "ORDER BY customer_id;\n",
        "\"\"\"\n",
        "\n",
        "print(f\"Identifying and enriching customer profiles for Gemini analysis...\")\n",
        "df_profiles = run_bq_query(sql_get_profiles, client)\n",
        "\n",
        "if df_profiles is not None:\n",
        "    display(df_profiles.head())\n",
        "    print(f\"\\nSaving enriched customer data to BigQuery table: {DESTINATION_TABLE}...\")\n",
        "\n",
        "    try:\n",
        "        df_profiles.to_gbq(\n",
        "            destination_table=DESTINATION_TABLE,\n",
        "            project_id=PROJECT_ID,\n",
        "            if_exists='replace',\n",
        "            location='us-central1'\n",
        "        )\n",
        "        print(f\"✅ Successfully saved {len(df_profiles)} enriched records to BigQuery at {DESTINATION_TABLE}.\")\n",
        "    except Exception as e:\n",
        "        print(f\"❌ An error occurred while saving to BigQuery: {e}\")"
      ]
    },
    {
      "cell_type": "markdown",
      "metadata": {
        "id": "mImquakQmTAe"
      },
      "source": [
        "## 페르소나 데이터 시각화를 통한 EDA\n",
        "### 이 쿼리는 각 세그먼트의 고객 수를 집계하고 해당 데이터를 막대 차트로 시각화합니다."
      ]
    },
    {
      "cell_type": "code",
      "execution_count": null,
      "metadata": {
        "id": "a2pCxdJ1mOGO"
      },
      "outputs": [],
      "source": [
        "import matplotlib.pyplot as plt\n",
        "import seaborn as sns\n",
        "import pandas as pd\n",
        "\n",
        "def plot_customer_distribution(df: pd.DataFrame):\n",
        "    if df is None or df.empty:\n",
        "        print(\"DataFrame is empty. Skipping plot generation.\")\n",
        "        return\n",
        "\n",
        "    sns.set_theme(style=\"whitegrid\", font_scale=1.0)\n",
        "\n",
        "    plt.figure(figsize=(10, 6))\n",
        "\n",
        "    palette = sns.cubehelix_palette(n_colors=len(df), start=.5, rot=-.75, dark=0.3, light=0.7)\n",
        "\n",
        "    ax = sns.barplot(\n",
        "        x='persona_age_group_profile', y='customer_count', data=df,\n",
        "        palette=palette, hue='persona_age_group_profile', legend=False\n",
        "    )\n",
        "\n",
        "    for p in ax.patches:\n",
        "        ax.annotate(f'{int(p.get_height()):,}', (p.get_x() + p.get_width() / 2., p.get_height()),\n",
        "                    ha='center', va='center', xytext=(0, 8), textcoords='offset points',\n",
        "                    fontsize=9, color='dimgray')\n",
        "\n",
        "    ax.set(title='Customer Segment Distribution', xlabel='Persona Profile', ylabel='Number of Customers')\n",
        "    ax.title.set_size(16); ax.title.set_weight('bold'); ax.xaxis.label.set_size(12);\n",
        "    ax.yaxis.label.set_size(12); ax.title.set_position([.5, 1.05]);\n",
        "\n",
        "    plt.xticks(rotation=45, ha='right')\n",
        "    plt.ylim(0, df['customer_count'].max() * 1.15)\n",
        "    sns.despine()\n",
        "    plt.tight_layout()\n",
        "    plt.show()"
      ]
    },
    {
      "cell_type": "code",
      "execution_count": null,
      "metadata": {
        "id": "riEZyySU6Pps"
      },
      "outputs": [],
      "source": [
        "sql_data_for_viz = f\"\"\"\n",
        "WITH EnrichedData AS (\n",
        "    SELECT\n",
        "        c.customer_id,\n",
        "        CASE\n",
        "            WHEN c.age < 40 THEN 'Younger_Adult'\n",
        "            ELSE 'Older_Adult'\n",
        "        END AS age_group,\n",
        "        UPPER(c.gender) as gender,\n",
        "        IF(c.loyalty_member, 'LOYAL', 'NON_LOYAL') as loyalty_status\n",
        "    FROM `{TABLE_ID_CUSTOMERS}` AS c\n",
        "    WHERE c.age IS NOT NULL AND c.gender IS NOT NULL AND c.loyalty_member IS NOT NULL\n",
        ")\n",
        "SELECT\n",
        "    CONCAT(age_group, '_', gender, '_', loyalty_status) as persona_age_group_profile,\n",
        "    COUNT(DISTINCT customer_id) AS customer_count\n",
        "FROM EnrichedData\n",
        "GROUP BY persona_age_group_profile\n",
        "ORDER BY customer_count DESC;\n",
        "\"\"\"\n",
        "\n",
        "print(\"Querying data for visualization...\")\n",
        "df_for_viz = run_bq_query(sql_data_for_viz, client)\n",
        "\n",
        "print(\"Generating plot...\")\n",
        "plot_customer_distribution(df_for_viz)"
      ]
    },
    {
      "cell_type": "markdown",
      "metadata": {
        "id": "BrDgj52vbOmb"
      },
      "source": [
        "## Gemini를 사용하여 상세 페르소나 생성\n",
        "### 해당 프롬프트는 한 번의 호출만으로 온전한 페르소나 분석을 생성하도록 설계되었습니다."
      ]
    },
    {
      "cell_type": "code",
      "execution_count": null,
      "metadata": {
        "id": "_M0r_Nr2Wxrn"
      },
      "outputs": [],
      "source": [
        "FINAL_DESTINATION_TABLE_ID = \"segment_level_gemini_analysis\"\n",
        "table_id_segment_level_analysis = f\"{DATASET_ID}.{FINAL_DESTINATION_TABLE_ID}\"\n",
        "\n",
        "gemini_prompt_template = \"\"\"\n",
        "고객 세그먼트 프로필 \"{p}\"를 기반으로 유효한 단일 JSON 객체를 생성합니다.\n",
        "JSON은 다음 키를 반드시 포함해야 합니다:\n",
        "\"persona_description\" (이 페르소나에 대한 간결한 한 문장 요약),\n",
        "\"summary\" (그들의 예상되는 선호도에 대한 더 자세한 요약),\n",
        "\"motivations\" (구매 결정에 영향을 미치는 요인),\n",
        "\"needs\" (제품 또는 서비스에서 찾는 것),\n",
        "\"marketing_pitch\" (그들을 타겟팅하는 짧은 마케팅 문구).\n",
        "전체 출력은 하나의 JSON 객체여야 하며, 텍스트 본문은 한국어로 구성합니다.\n",
        "\"\"\"\n",
        "\n",
        "TEMP_TABLE_ID = \"temp_gemini_prompts\"\n",
        "TEMP_TABLE = f\"{PROJECT_ID}.{DATASET_ID}.{TEMP_TABLE_ID}\"\n",
        "\n",
        "print(\"1. Loading unique persona profiles from BigQuery.\")\n",
        "sql_load_profiles = f\"SELECT persona_age_group_profile FROM `{DATASET_ID}.unique_segment_profiles` ORDER BY 1\"\n",
        "source_df = run_bq_query(sql_load_profiles, client)\n",
        "\n",
        "if source_df is not None and not source_df.empty:\n",
        "    unique_profiles_df = source_df['persona_age_group_profile'].astype(str).drop_duplicates().to_frame(name='profile_name')\n",
        "    print(f\"Found {len(source_df)} total rows. Analyzing {len(unique_profiles_df)} unique profiles. Preparing for batch analysis...\")\n",
        "    prompts_df = pd.DataFrame({\n",
        "        'profile_name': unique_profiles_df['profile_name'],\n",
        "        'prompt': unique_profiles_df['profile_name'].apply(\n",
        "            lambda p: gemini_prompt_template.format(p=p)\n",
        "        )\n",
        "    })\n",
        "\n",
        "    pandas_gbq.to_gbq(\n",
        "        prompts_df,\n",
        "        f'{DATASET_ID}.{TEMP_TABLE_ID}',\n",
        "        project_id=PROJECT_ID,\n",
        "        if_exists='replace',\n",
        "        location='us-central1'\n",
        "    )\n",
        "    print(\"✅ Temporary prompts table created successfully.\")\n",
        "\n",
        "    print(\"\\n2. Starting single batch analysis using Gemini on BigQuery...\")\n",
        "    sql_batch_analysis = f\"\"\"\n",
        "    SELECT\n",
        "        t2.profile_name,\n",
        "        t1.ml_generate_text_llm_result AS analysis\n",
        "    FROM\n",
        "        ML.GENERATE_TEXT(\n",
        "            MODEL `{GEMINI_MODEL_NAME}`,\n",
        "            (SELECT * FROM `{TEMP_TABLE}`),\n",
        "            STRUCT(0.5 AS temperature, 1024 AS max_output_tokens, TRUE AS flatten_json_output)\n",
        "        ) AS t1\n",
        "    JOIN\n",
        "        `{TEMP_TABLE}` AS t2\n",
        "    ON\n",
        "        t1.prompt = t2.prompt;\n",
        "    \"\"\"\n",
        "\n",
        "    df_all_analysis = run_bq_query(sql_batch_analysis, client)\n",
        "\n",
        "    if df_all_analysis is not None:\n",
        "        print(\"✅ Analysis complete.\")\n",
        "\n",
        "        print(f\"\\n3. Saving {len(df_all_analysis)} analyses to BigQuery table: {table_id_segment_level_analysis}\")\n",
        "        pandas_gbq.to_gbq(\n",
        "            df_all_analysis,\n",
        "            table_id_segment_level_analysis,\n",
        "            project_id=PROJECT_ID,\n",
        "            if_exists='replace',\n",
        "            location='us-central1'\n",
        "        )\n",
        "        print(\"✅ Results successfully saved to BigQuery.\")\n",
        "\n",
        "else:\n",
        "    print(\"No profiles found to analyze.\")"
      ]
    },
    {
      "cell_type": "markdown",
      "metadata": {
        "id": "DSXG9ArZbkAS"
      },
      "source": [
        "## 생성된 페르소나 분석 테이블 확인\n",
        "### Gemini로 분석한 원본 테이블의 내용을 표시하여 확인합니다."
      ]
    },
    {
      "cell_type": "code",
      "execution_count": null,
      "metadata": {
        "id": "TOsOX6GhQjgY"
      },
      "outputs": [],
      "source": [
        "df_raw_analysis = run_bq_query(f\"SELECT * FROM `{table_id_segment_level_analysis}` LIMIT 5\", client)\n",
        "if df_raw_analysis is not None:\n",
        "    with pd.option_context('display.max_colwidth', None):\n",
        "        display(df_raw_analysis)"
      ]
    },
    {
      "cell_type": "markdown",
      "metadata": {
        "id": "4_f1E4csczVe"
      },
      "source": [
        "## 최종 인사이트 및 페르소나 테이블 생성"
      ]
    },
    {
      "cell_type": "code",
      "execution_count": null,
      "metadata": {
        "id": "ouRqFxEcajmu"
      },
      "outputs": [],
      "source": [
        "table_id_multimodal_reviews = f\"{PROJECT_ID}.{DATASET_ID}.multimodal_customer_reviews\"\n",
        "TABLE_ID_CUSTOMERS = f\"{PROJECT_ID}.{DATASET_ID}.customers\"\n",
        "table_id_segment_level_analysis = f\"{PROJECT_ID}.{DATASET_ID}.segment_level_gemini_analysis\"\n",
        "\n",
        "table_id_final_customer_insights = f\"{PROJECT_ID}.{DATASET_ID}.final_customer_insights\"\n",
        "sql_create_final_table = f\"\"\"\n",
        "CREATE OR REPLACE TABLE `{table_id_final_customer_insights}` AS\n",
        "WITH EnrichedData AS (\n",
        "    SELECT mcr.*, c.first_name, c.last_name, c.age, c.gender, c.loyalty_member,\n",
        "        CONCAT(\n",
        "            CASE WHEN c.age < 40 THEN 'Younger_Adult' ELSE 'Older_Adult' END, '_',\n",
        "            UPPER(c.gender), IF(c.loyalty_member, '_LOYAL', '_NON_LOYAL')\n",
        "        ) AS persona_age_group_profile\n",
        "    FROM `{table_id_multimodal_reviews}` AS mcr\n",
        "    JOIN `{TABLE_ID_CUSTOMERS}` AS c ON mcr.customer_id = c.customer_id\n",
        ")\n",
        "SELECT enriched.*, persona.analysis AS gemini_persona_analysis\n",
        "FROM EnrichedData enriched\n",
        "LEFT JOIN `{table_id_segment_level_analysis}` persona ON enriched.persona_age_group_profile = persona.profile_name;\n",
        "\"\"\"\n",
        "\n",
        "print(f\"1. Creating the final customer insights table '{table_id_final_customer_insights}'...\")\n",
        "run_bq_query(sql_create_final_table, client)\n",
        "print(\"✅ Final customer insights table created successfully.\")\n",
        "\n",
        "final_persona_table_id = f\"{PROJECT_ID}.{DATASET_ID}.customer_persona_definitions\"\n",
        "sql_create_personas = f\"\"\"\n",
        "CREATE OR REPLACE TABLE `{final_persona_table_id}` AS\n",
        "WITH cleaned_analysis AS (\n",
        "  SELECT\n",
        "    profile_name AS profile,\n",
        "    -- Clean the JSON string by removing markdown backticks and whitespace\n",
        "    TRIM(REGEXP_REPLACE(analysis, r'(?i)(^```json\\\\s*|\\\\s*```$)', '')) as cleaned_json\n",
        "  FROM\n",
        "    `{table_id_segment_level_analysis}`\n",
        ")\n",
        "SELECT\n",
        "    profile AS persona_age_group_profile,\n",
        "    JSON_EXTRACT_SCALAR(cleaned_json, '$.persona_description') AS persona_segment_description\n",
        "FROM\n",
        "    cleaned_analysis\n",
        "WHERE\n",
        "    JSON_EXTRACT_SCALAR(cleaned_json, '$.persona_description') IS NOT NULL;\n",
        "\"\"\"\n",
        "print(f\"\\n2. Creating final persona definitions table from Gemini output: {final_persona_table_id}...\")\n",
        "run_bq_query(sql_create_personas, client)\n",
        "print(\"✅ Final persona definitions table created successfully.\")\n",
        "\n",
        "print(f\"\\n--- 3. Verifying Final Customer Persona Definitions (Generated by Gemini) ---\")\n",
        "df_personas = run_bq_query(f\"SELECT * FROM `{final_persona_table_id}` ORDER BY 1\", client)\n",
        "if df_personas is not None:\n",
        "    with pd.option_context('display.max_colwidth', None):\n",
        "        display(df_personas)\n"
      ]
    }
  ],
  "metadata": {
    "colab": {
      "cell_execution_strategy": "setup",
      "name": "task2",
      "provenance": []
    },
    "kernelspec": {
      "display_name": "Python 3",
      "name": "python3"
    },
    "language_info": {
      "name": "python"
    }
  },
  "nbformat": 4,
  "nbformat_minor": 0
}
