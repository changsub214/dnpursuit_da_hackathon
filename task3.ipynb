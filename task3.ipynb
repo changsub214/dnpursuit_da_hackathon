{
  "cells": [
    {
      "cell_type": "markdown",
      "id": "3wjRvZdeR-uc",
      "metadata": {
        "id": "3wjRvZdeR-uc"
      },
      "source": [
        "## 환경 초기 설정"
      ]
    },
    {
      "cell_type": "code",
      "execution_count": null,
      "id": "OtStwvgBsXdFiCSeN6y7nBjf",
      "metadata": {
        "id": "OtStwvgBsXdFiCSeN6y7nBjf",
        "tags": []
      },
      "outputs": [],
      "source": [
        "# User: Please enter your Project ID in this cell.\n",
        "PROJECT_ID = 'your-gcp-project' # <-- ENTER YOUR ACTUAL PROJECT ID HERE!\n",
        "\n",
        "# Verify that PROJECT_ID is not empty. If it is, raise an error.\n",
        "if not PROJECT_ID:\n",
        "    raise ValueError(\"ERROR: PROJECT_ID is not set. Please enter your Project ID above.\")\n",
        "\n",
        "print(f\"Project ID set to: {PROJECT_ID}\")"
      ]
    },
    {
      "cell_type": "markdown",
      "id": "Mubl65tJSASX",
      "metadata": {
        "id": "Mubl65tJSASX"
      },
      "source": [
        "이제 이 셀을 실행하여 태스크 3 환경을 초기화합니다. 이 셀은 태스크 3에 필요한 라이브러리를 가져오고, BigQuery 클라이언트를 초기화하며, 사용할 주요 변수(테이블 ID 등)를 정의합니다."
      ]
    },
    {
      "cell_type": "code",
      "execution_count": null,
      "id": "bIDXOFKMyKjE",
      "metadata": {
        "id": "bIDXOFKMyKjE"
      },
      "outputs": [],
      "source": [
        "from google.cloud import bigquery\n",
        "import pandas as pd\n",
        "import pandas_gbq\n",
        "from IPython.display import display\n",
        "\n",
        "# Ensure PROJECT_ID has been defined in the cell above.\n",
        "# You must run the 'Set Your Project ID' cell above before running this one.\n",
        "if 'PROJECT_ID' not in locals() or not PROJECT_ID:\n",
        "    raise ValueError(\"ERROR: PROJECT_ID is not set. Please run the 'Set Your Project ID' cell above first.\")\n",
        "\n",
        "client = bigquery.Client(project=PROJECT_ID, location=\"us-central1\") # Explicitly pass project argument here\n",
        "\n",
        "DATASET_ID = 'cymbal'\n",
        "GEMINI_MODEL_NAME = f'{PROJECT_ID}.{DATASET_ID}.gemini_flash_model'\n",
        "\n",
        "print(f\"BigQuery Client Initialized for Project ID: {PROJECT_ID}\")\n",
        "\n",
        "def run_bq_query(sql: str, client: bigquery.Client):\n",
        "    try:\n",
        "        query_job = client.query(sql)\n",
        "        print(f\"Job {query_job.job_id} in state {query_job.state}\")\n",
        "        if query_job.statement_type == 'SELECT':\n",
        "            df = query_job.to_dataframe()\n",
        "            print(f\"Query complete. Fetched {len(df)} rows.\")\n",
        "            return df\n",
        "        else:\n",
        "            query_job.result()\n",
        "            print(f\"Query for statement type {query_job.statement_type} complete.\")\n",
        "            return None\n",
        "    except Exception as e:\n",
        "        print(f\"An error occurred: {e}\")\n",
        "        return None"
      ]
    },
    {
      "cell_type": "markdown",
      "id": "l2fdvrL5SJ89",
      "metadata": {
        "id": "l2fdvrL5SJ89"
      },
      "source": [
        "## 불만족 리뷰 고객 식별\n",
        "### 이 쿼리는 'negative' 혹은 'neutral' 로 분류된 리뷰를 남긴 고객을 식별합니다."
      ]
    },
    {
      "cell_type": "code",
      "execution_count": null,
      "id": "OdQdZ_rxyNL9",
      "metadata": {
        "id": "OdQdZ_rxyNL9"
      },
      "outputs": [],
      "source": [
        "sql_get_negative = f\"\"\"\n",
        "\n",
        "CREATE OR REPLACE TABLE `cymbal.negative_customers_list` AS\n",
        "SELECT\n",
        "    customer_id\n",
        "FROM\n",
        "    `cymbal.final_customer_insights`\n",
        "WHERE\n",
        "    ((JSON_EXTRACT_SCALAR(sentiment_json_string, '$.sentiment') = 'negative') OR (JSON_EXTRACT_SCALAR(sentiment_json_string, '$.sentiment') = 'neutral'))\n",
        "GROUP BY customer_id;\n",
        "\"\"\"\n",
        "df_negative_customers = run_bq_query(sql_get_negative, client)\n",
        "if df_negative_customers is not None:\n",
        "    display(df_negative_customers)\n"
      ]
    },
    {
      "cell_type": "markdown",
      "id": "u2Y90GFHSzD1",
      "metadata": {
        "id": "u2Y90GFHSzD1"
      },
      "source": [
        "## 불만족 고객 테이블 확인"
      ]
    },
    {
      "cell_type": "code",
      "execution_count": null,
      "id": "H5_bh7A3yxmN",
      "metadata": {
        "id": "H5_bh7A3yxmN"
      },
      "outputs": [],
      "source": [
        "sql_show_table = \"SELECT * FROM `cymbal.negative_customers_list` LIMIT 5;\"\n",
        "\n",
        "print(\"Fetching data from the new table...\")\n",
        "df_new_table_contents = run_bq_query(sql_show_table, client)\n",
        "\n",
        "if df_new_table_contents is not None:\n",
        "    display(df_new_table_contents)"
      ]
    },
    {
      "cell_type": "markdown",
      "id": "wOqVHl9zR6Z3",
      "metadata": {
        "id": "wOqVHl9zR6Z3"
      },
      "source": [
        "## 불만족 고객의 세그먼트 및 지리적 데이터 검색\n",
        "### 이 쿼리는 불만족 고객의 페르소나 및 지리적 정보를 수집합니다."
      ]
    },
    {
      "cell_type": "code",
      "execution_count": null,
      "id": "_qgiXzx-zNql",
      "metadata": {
        "id": "_qgiXzx-zNql"
      },
      "outputs": [],
      "source": [
        "sql_create_negative_segment_data = f\"\"\"\n",
        "CREATE OR REPLACE TABLE `{PROJECT_ID}.{DATASET_ID}.negative_customer_segment_data` AS\n",
        "SELECT\n",
        "    ncl.customer_id,\n",
        "    t1.persona_age_group_profile,\n",
        "    t2.address_city\n",
        "FROM\n",
        "    `{DATASET_ID}.negative_customers_list` AS ncl\n",
        "JOIN\n",
        "    `{DATASET_ID}.final_customer_insights` AS t1 ON ncl.customer_id = t1.customer_id\n",
        "JOIN\n",
        "    `{DATASET_ID}.customers` AS t2 ON ncl.customer_id = t2.customer_id;\n",
        "\"\"\"\n",
        "\n",
        "run_bq_query(sql_create_negative_segment_data, client)\n",
        "print(\"✅ negative_customer_segment_data 테이블 생성 완료.\")"
      ]
    },
    {
      "cell_type": "markdown",
      "id": "YOfO-CFaTPCg",
      "metadata": {
        "id": "YOfO-CFaTPCg"
      },
      "source": [
        "## 불만족 고객 정보 테이블 확인"
      ]
    },
    {
      "cell_type": "code",
      "execution_count": null,
      "id": "PZ1EsHyq0ctH",
      "metadata": {
        "id": "PZ1EsHyq0ctH"
      },
      "outputs": [],
      "source": [
        "sql_show_table = \"SELECT * FROM `cymbal.negative_customer_segment_data` LIMIT 5;\"\n",
        "\n",
        "print(\"Fetching data from the new table...\")\n",
        "df_new_table_contents = run_bq_query(sql_show_table, client)\n",
        "\n",
        "if df_new_table_contents is not None:\n",
        "    display(df_new_table_contents)"
      ]
    },
    {
      "cell_type": "markdown",
      "id": "LY0m6ug6YFqF",
      "metadata": {
        "id": "LY0m6ug6YFqF"
      },
      "source": [
        "## 세그먼트, 도시별 인기 제품 추출\n"
      ]
    },
    {
      "cell_type": "markdown",
      "id": "ddJBLmkzIOZe",
      "metadata": {
        "id": "ddJBLmkzIOZe"
      },
      "source": [
        "### 이 쿼리는 세그먼트별 고객들이 많이 구입한 상품을 수집합니다."
      ]
    },
    {
      "cell_type": "code",
      "execution_count": null,
      "id": "FvXauAYdXyLs",
      "metadata": {
        "id": "FvXauAYdXyLs"
      },
      "outputs": [],
      "source": [
        "sql_create_segment_top_products = f\"\"\"\n",
        "CREATE OR REPLACE TABLE `{PROJECT_ID}.{DATASET_ID}.segment_top_products_ranked` AS\n",
        "WITH SegmentProductsRanked AS (\n",
        "    SELECT\n",
        "        fci.persona_age_group_profile,\n",
        "        cre.productId,\n",
        "        COUNT(cre.productId) AS purchase_count,\n",
        "        ROW_NUMBER() OVER(PARTITION BY fci.persona_age_group_profile ORDER BY COUNT(cre.productId) DESC) AS rn\n",
        "    FROM\n",
        "        `{DATASET_ID}.final_customer_insights` AS fci\n",
        "    JOIN\n",
        "        `{DATASET_ID}.customer_reviews_external` AS cre\n",
        "        ON fci.customer_id = cre.customer_id\n",
        "    WHERE\n",
        "        cre.productId IS NOT NULL\n",
        "    GROUP BY\n",
        "        fci.persona_age_group_profile, cre.productId\n",
        ")\n",
        "SELECT\n",
        "    persona_age_group_profile,\n",
        "    MAX(CASE WHEN rn = 1 THEN productId END) AS segment_top1_product,\n",
        "    MAX(CASE WHEN rn = 2 THEN productId END) AS segment_top2_product\n",
        "FROM\n",
        "    SegmentProductsRanked\n",
        "WHERE\n",
        "    rn <= 2\n",
        "GROUP BY\n",
        "    persona_age_group_profile;\n",
        "\"\"\"\n",
        "\n",
        "run_bq_query(sql_create_segment_top_products, client)\n",
        "print(\"✅ segment_top_products_ranked 테이블 생성 완료.\")"
      ]
    },
    {
      "cell_type": "markdown",
      "id": "g_38F3BfL_Tr",
      "metadata": {
        "id": "g_38F3BfL_Tr"
      },
      "source": [
        "### 세그먼트별 인기 상품 테이블 확인"
      ]
    },
    {
      "cell_type": "code",
      "execution_count": null,
      "id": "d0UVw6MkIa4V",
      "metadata": {
        "id": "d0UVw6MkIa4V"
      },
      "outputs": [],
      "source": [
        "sql_show_table = \"SELECT * FROM `cymbal.segment_top_products_ranked` LIMIT 5;\"\n",
        "\n",
        "print(\"Fetching data from the new table...\")\n",
        "df_new_table_contents = run_bq_query(sql_show_table, client)\n",
        "\n",
        "if df_new_table_contents is not None:\n",
        "    display(df_new_table_contents)"
      ]
    },
    {
      "cell_type": "markdown",
      "id": "DGNU4h39IQvN",
      "metadata": {
        "id": "DGNU4h39IQvN"
      },
      "source": [
        "### 이 쿼리는 도시별 고객들이 많이 구입한 상품을 수집합니다.\n"
      ]
    },
    {
      "cell_type": "code",
      "execution_count": null,
      "id": "rOhtZG7iIJhd",
      "metadata": {
        "id": "rOhtZG7iIJhd"
      },
      "outputs": [],
      "source": [
        "sql_create_city_top_products = f\"\"\"\n",
        "CREATE OR REPLACE TABLE `{PROJECT_ID}.{DATASET_ID}.city_top_products_ranked` AS\n",
        "WITH CityProductsRanked AS (\n",
        "    SELECT\n",
        "        c.address_city,\n",
        "        cre.productId,\n",
        "        COUNT(cre.productId) AS purchase_count,\n",
        "        ROW_NUMBER() OVER(PARTITION BY c.address_city ORDER BY COUNT(cre.productId) DESC) AS rn\n",
        "    FROM\n",
        "        `{DATASET_ID}.customers` AS c\n",
        "    JOIN\n",
        "        `{DATASET_ID}.customer_reviews_external` AS cre\n",
        "        ON c.customer_id = cre.customer_id\n",
        "    WHERE\n",
        "        cre.productId IS NOT NULL\n",
        "    GROUP BY\n",
        "        c.address_city, cre.productId\n",
        ")\n",
        "SELECT\n",
        "    address_city,\n",
        "    MAX(CASE WHEN rn = 1 THEN productId END) AS city_top1_product,\n",
        "    MAX(CASE WHEN rn = 2 THEN productId END) AS city_top2_product\n",
        "FROM\n",
        "    CityProductsRanked\n",
        "WHERE\n",
        "    rn <= 2\n",
        "GROUP BY\n",
        "    address_city;\n",
        "\"\"\"\n",
        "\n",
        "run_bq_query(sql_create_city_top_products, client)\n",
        "print(\"✅ city_top_products_ranked 테이블 생성 완료.\")"
      ]
    },
    {
      "cell_type": "markdown",
      "id": "uZA-kGOyMJVX",
      "metadata": {
        "id": "uZA-kGOyMJVX"
      },
      "source": [
        "### 도시별 인기 상품 테이블 확인"
      ]
    },
    {
      "cell_type": "code",
      "execution_count": null,
      "id": "13p85hOrIVyF",
      "metadata": {
        "id": "13p85hOrIVyF"
      },
      "outputs": [],
      "source": [
        "sql_show_table = \"SELECT * FROM `cymbal.city_top_products_ranked` LIMIT 5;\"\n",
        "\n",
        "print(\"Fetching data from the new table...\")\n",
        "df_new_table_contents = run_bq_query(sql_show_table, client)\n",
        "\n",
        "if df_new_table_contents is not None:\n",
        "    display(df_new_table_contents)"
      ]
    },
    {
      "cell_type": "code",
      "execution_count": null,
      "id": "odtFIPzUWEKB",
      "metadata": {
        "id": "odtFIPzUWEKB"
      },
      "outputs": [],
      "source": [
        "sql_create_candidate_products = f\"\"\"\n",
        "CREATE OR REPLACE TABLE `{PROJECT_ID}.{DATASET_ID}.temp_candidate_products_list` AS\n",
        "SELECT\n",
        "    ncl.customer_id,\n",
        "    c.email,\n",
        "    c.first_name,\n",
        "    fci.persona_age_group_profile AS segment,\n",
        "    ARRAY<STRING>[\n",
        "        CAST(t_seg.segment_top1_product AS STRING),\n",
        "        CAST(t_seg.segment_top2_product AS STRING),\n",
        "        CAST(t_city.city_top1_product AS STRING),\n",
        "        CAST(t_city.city_top2_product AS STRING)\n",
        "    ] AS candidate_products\n",
        "FROM\n",
        "    `{DATASET_ID}.negative_customers_list` AS ncl\n",
        "JOIN\n",
        "    `{DATASET_ID}.final_customer_insights` AS fci\n",
        "    ON ncl.customer_id = fci.customer_id\n",
        "JOIN\n",
        "    `{DATASET_ID}.customers` AS c\n",
        "    ON ncl.customer_id = c.customer_id\n",
        "LEFT JOIN\n",
        "    `{DATASET_ID}.segment_top_products_ranked` AS t_seg\n",
        "    ON fci.persona_age_group_profile = t_seg.persona_age_group_profile\n",
        "LEFT JOIN\n",
        "    `{DATASET_ID}.city_top_products_ranked` AS t_city\n",
        "    ON c.address_city = t_city.address_city\n",
        "WHERE\n",
        "    fci.persona_age_group_profile IS NOT NULL\n",
        "    AND c.address_city IS NOT NULL;\n",
        "\"\"\"\n",
        "\n",
        "run_bq_query(sql_create_candidate_products, client)\n",
        "print(f\"✅ 1단계 완료: `{PROJECT_ID}.{DATASET_ID}.temp_candidate_products_list` 생성.\")"
      ]
    },
    {
      "cell_type": "markdown",
      "id": "mXr3ZxgfYRzD",
      "metadata": {
        "id": "mXr3ZxgfYRzD"
      },
      "source": [
        "## 최종 추천 상품 테이블 생성\n",
        "### 세그먼트, 지역별 추천을 고객이 리뷰한 상품과의 중복을 제외한 3가지 상품으로 최종 결정합니다."
      ]
    },
    {
      "cell_type": "markdown",
      "id": "jkpvdvdtBaas",
      "metadata": {
        "id": "jkpvdvdtBaas"
      },
      "source": [
        "고객의 지역 기반, 세그먼트 기반 추천 상품 4가지를 하나의 임시 테이블로 합칩니다."
      ]
    },
    {
      "cell_type": "code",
      "execution_count": null,
      "id": "iPgQz0qjWQpr",
      "metadata": {
        "id": "iPgQz0qjWQpr"
      },
      "outputs": [],
      "source": [
        "sql_create_candidate_products = f\"\"\"\n",
        "CREATE OR REPLACE TABLE `{PROJECT_ID}.{DATASET_ID}.temp_candidate_products_list` AS\n",
        "SELECT\n",
        "    ncl.customer_id,\n",
        "    c.email,\n",
        "    c.first_name,\n",
        "    fci.persona_age_group_profile AS segment,\n",
        "    ARRAY<STRING>[\n",
        "        CAST(t_seg.segment_top1_product AS STRING),\n",
        "        CAST(t_seg.segment_top2_product AS STRING),\n",
        "        CAST(t_city.city_top1_product AS STRING),\n",
        "        CAST(t_city.city_top2_product AS STRING)\n",
        "    ] AS candidate_products -- 총 4개의 후보 상품 배열 (모두 STRING 타입으로 통일)\n",
        "FROM\n",
        "    `{DATASET_ID}.negative_customers_list` AS ncl\n",
        "JOIN\n",
        "    `{DATASET_ID}.final_customer_insights` AS fci\n",
        "    ON ncl.customer_id = fci.customer_id\n",
        "JOIN\n",
        "    `{DATASET_ID}.customers` AS c\n",
        "    ON ncl.customer_id = c.customer_id\n",
        "LEFT JOIN\n",
        "    `{DATASET_ID}.segment_top_products_ranked` AS t_seg\n",
        "    ON fci.persona_age_group_profile = t_seg.persona_age_group_profile\n",
        "LEFT JOIN\n",
        "    `{DATASET_ID}.city_top_products_ranked` AS t_city\n",
        "    ON c.address_city = t_city.address_city\n",
        "WHERE\n",
        "    fci.persona_age_group_profile IS NOT NULL\n",
        "    AND c.address_city IS NOT NULL;\n",
        "\"\"\"\n",
        "run_bq_query(sql_create_candidate_products, client)\n",
        "print(f\"✅ `{PROJECT_ID}.{DATASET_ID}.temp_candidate_products_list` 생성 완료.\")"
      ]
    },
    {
      "cell_type": "markdown",
      "id": "kw6oH7LKBJ_w",
      "metadata": {
        "id": "kw6oH7LKBJ_w"
      },
      "source": [
        "임시 테이블에서 고객이 리뷰한 상품이 추천된 경우 추천에서 제외하고, 아닌 경우 도시 기반의 두 번째 추천 상품을 제외합니다."
      ]
    },
    {
      "cell_type": "code",
      "execution_count": null,
      "id": "xLwR_zYbeOR9",
      "metadata": {
        "id": "xLwR_zYbeOR9"
      },
      "outputs": [],
      "source": [
        "sql_create_final_recommendation_array = f\"\"\"\n",
        "CREATE OR REPLACE TABLE `{PROJECT_ID}.{DATASET_ID}.temp_final_recommendation_array` AS\n",
        "WITH ExpandedCandidates AS (\n",
        "    SELECT\n",
        "        t1.customer_id,\n",
        "        t1.email,\n",
        "        t1.first_name,\n",
        "        t1.segment,\n",
        "        t_candidate_product AS candidate_product_item\n",
        "    FROM\n",
        "        `{DATASET_ID}.temp_candidate_products_list` AS t1,\n",
        "        UNNEST(t1.candidate_products) AS t_candidate_product\n",
        "),\n",
        "PurchasedProductsExpanded AS (\n",
        "    SELECT DISTINCT\n",
        "        customer_id,\n",
        "        CAST(productId AS STRING) AS purchased_product_item\n",
        "    FROM\n",
        "        `{DATASET_ID}.customer_reviews_external`\n",
        "    WHERE\n",
        "        productId IS NOT NULL\n",
        "),\n",
        "ExcludedProducts AS (\n",
        "    SELECT\n",
        "        ec.customer_id,\n",
        "        ec.email,\n",
        "        ec.first_name,\n",
        "        ec.segment,\n",
        "        ec.candidate_product_item,\n",
        "        CASE\n",
        "            WHEN ppe.purchased_product_item IS NULL THEN ec.candidate_product_item\n",
        "            ELSE NULL\n",
        "        END AS recommended_product_item_if_new\n",
        "    FROM\n",
        "        ExpandedCandidates AS ec\n",
        "    LEFT JOIN\n",
        "        PurchasedProductsExpanded AS ppe\n",
        "        ON ec.customer_id = ppe.customer_id\n",
        "        AND ec.candidate_product_item = ppe.purchased_product_item\n",
        "    GROUP BY 1, 2, 3, 4, 5, ppe.purchased_product_item\n",
        "),\n",
        "FinalCandidates AS (\n",
        "    SELECT\n",
        "        ep.customer_id,\n",
        "        ep.email,\n",
        "        ep.first_name,\n",
        "        ep.segment,\n",
        "        ARRAY_AGG(recommended_product_item_if_new IGNORE NULLS ORDER BY\n",
        "            -- 상품 선정 우선순위: Segment Top 1, Segment Top 2, City Top 1\n",
        "            CASE\n",
        "                WHEN recommended_product_item_if_new = CAST(t_city.city_top1_product AS STRING) THEN 3\n",
        "                WHEN recommended_product_item_if_new = CAST(t_seg.segment_top2_product AS STRING) THEN 2\n",
        "                WHEN recommended_product_item_if_new = CAST(t_seg.segment_top1_product AS STRING) THEN 1\n",
        "                ELSE 4\n",
        "            END\n",
        "        ) AS final_recommended_products_with_exclusion\n",
        "    FROM\n",
        "        ExcludedProducts AS ep\n",
        "    JOIN\n",
        "        `{DATASET_ID}.segment_top_products_ranked` AS t_seg ON ep.segment = t_seg.persona_age_group_profile\n",
        "    JOIN\n",
        "        `{DATASET_ID}.customers` AS c ON ep.customer_id = c.customer_id\n",
        "    JOIN\n",
        "        `{DATASET_ID}.city_top_products_ranked` AS t_city ON c.address_city = t_city.address_city\n",
        "    GROUP BY 1, 2, 3, 4\n",
        ")\n",
        "SELECT\n",
        "    customer_id,\n",
        "    email,\n",
        "    segment,\n",
        "    first_name,\n",
        "    final_recommended_products_with_exclusion AS final_products_array\n",
        "FROM\n",
        "    FinalCandidates;\n",
        "\"\"\"\n",
        "\n",
        "run_bq_query(sql_create_final_recommendation_array, client)\n",
        "print(f\"✅ `{PROJECT_ID}.{DATASET_ID}.temp_final_recommendation_array` 생성 완료.\")"
      ]
    },
    {
      "cell_type": "markdown",
      "id": "VY5CBsRjYzU5",
      "metadata": {
        "id": "VY5CBsRjYzU5"
      },
      "source": [
        "## 최종 추천 상품 테이블 정리 및 저장"
      ]
    },
    {
      "cell_type": "code",
      "execution_count": null,
      "id": "v76zdMNtWSbV",
      "metadata": {
        "id": "v76zdMNtWSbV"
      },
      "outputs": [],
      "source": [
        "sql_create_final_recommendations = f\"\"\"\n",
        "CREATE OR REPLACE TABLE `{PROJECT_ID}.{DATASET_ID}.final_personalized_recommendations` AS\n",
        "SELECT\n",
        "    customer_id,\n",
        "    first_name as customer_name,\n",
        "    email as customer_email,\n",
        "    segment,\n",
        "    final_products_array[OFFSET(0)] AS product1,\n",
        "    final_products_array[OFFSET(1)] AS product2,\n",
        "    final_products_array[OFFSET(2)] AS product3\n",
        "FROM\n",
        "    `{DATASET_ID}.temp_final_recommendation_array`;\n",
        "\"\"\"\n",
        "\n",
        "run_bq_query(sql_create_final_recommendations, client)\n",
        "print(f\"✅ `{PROJECT_ID}.{DATASET_ID}.final_personalized_recommendations` 테이블 생성 완료.\")"
      ]
    },
    {
      "cell_type": "markdown",
      "id": "8q-9gsYzY317",
      "metadata": {
        "id": "8q-9gsYzY317"
      },
      "source": [
        "### 추천 상품 테이블 확인"
      ]
    },
    {
      "cell_type": "code",
      "execution_count": null,
      "id": "u9TieJZKYwtm",
      "metadata": {
        "id": "u9TieJZKYwtm"
      },
      "outputs": [],
      "source": [
        "print(\"\\n--- 최종 추천 결과 테이블 미리보기 ---\")\n",
        "df_final_recs = run_bq_query(f\"SELECT * FROM `{PROJECT_ID}.{DATASET_ID}.final_personalized_recommendations` LIMIT 5\", client)\n",
        "if df_final_recs is not None:\n",
        "    display(df_final_recs)"
      ]
    },
    {
      "cell_type": "markdown",
      "id": "S92z2ttVY9Lq",
      "metadata": {
        "id": "S92z2ttVY9Lq"
      },
      "source": [
        "## Gemini로 개인화된 추천 상품 평가"
      ]
    },
    {
      "cell_type": "markdown",
      "id": "fu0jDQVPB2Ad",
      "metadata": {
        "id": "fu0jDQVPB2Ad"
      },
      "source": [
        "추천된 상품의 상품 이름과 카테고리, 고객의 세그먼트 정보를 불러와 하나의 테이블에 저장합니다."
      ]
    },
    {
      "cell_type": "code",
      "execution_count": null,
      "id": "nSzcdLaJ91pV",
      "metadata": {
        "id": "nSzcdLaJ91pV"
      },
      "outputs": [],
      "source": [
        "sql_create_product_details_table = f\"\"\"\n",
        "CREATE OR REPLACE TABLE `{PROJECT_ID}.{DATASET_ID}.temp_recommendation_details` AS\n",
        "WITH ProductsExpanded AS (\n",
        "    SELECT\n",
        "        customer_id,\n",
        "        email,\n",
        "        first_name,\n",
        "        segment,\n",
        "        t_prod AS product_id,\n",
        "        t_offset AS rank\n",
        "    FROM\n",
        "        `{DATASET_ID}.temp_final_recommendation_array`,\n",
        "        UNNEST(final_products_array) AS t_prod WITH OFFSET AS t_offset\n",
        "    WHERE\n",
        "        t_prod IS NOT NULL AND t_offset < 3\n",
        ")\n",
        "SELECT\n",
        "    pe.customer_id,\n",
        "    pe.email,\n",
        "    pe.first_name,\n",
        "    pe.segment,\n",
        "    pe.rank + 1 AS recommendation_rank,\n",
        "    p.title AS product_title,\n",
        "    p.categories AS product_categories,\n",
        "    t_analysis.analysis AS gemini_persona_analysis\n",
        "FROM\n",
        "    ProductsExpanded AS pe\n",
        "JOIN\n",
        "    `{DATASET_ID}.products` AS p\n",
        "    ON pe.product_id = CAST(p.productId AS STRING)\n",
        "JOIN\n",
        "    `{DATASET_ID}.segment_level_gemini_analysis` AS t_analysis\n",
        "    ON pe.segment = t_analysis.profile_name\n",
        "ORDER BY\n",
        "    pe.customer_id, recommendation_rank;\n",
        "\"\"\"\n",
        "\n",
        "run_bq_query(sql_create_product_details_table, client)\n",
        "print(f\"✅ `{PROJECT_ID}.{DATASET_ID}.temp_recommendation_details` 테이블 생성 완료\")"
      ]
    },
    {
      "cell_type": "markdown",
      "id": "UaJ4LMVoCL61",
      "metadata": {
        "id": "UaJ4LMVoCL61"
      },
      "source": [
        "Gemini를 활용해 고객 세그먼트, 상품 이름, 카테고리를 바탕으로 추천 적합도 평가를 수행합니다."
      ]
    },
    {
      "cell_type": "code",
      "execution_count": null,
      "id": "0ADReipK-FAH",
      "metadata": {
        "id": "0ADReipK-FAH"
      },
      "outputs": [],
      "source": [
        "GEMINI_EVALUATION_PROMPT_TEMPLATE = \"\"\"\n",
        "당신은 고객 세그먼트 분석가입니다. 다음 정보를 기반으로, 추천 상품이 고객 세그먼트 페르소나에 얼마나 적합한지 평가하는 JSON 객체를 생성하세요.\n",
        "\n",
        "1.  고객 세그먼트 페르소나 (분석 결과): {persona_analysis}\n",
        "2.  추천 상품 이름: {product_title}\n",
        "3.  추천 상품 카테고리: {product_categories}\n",
        "\n",
        "JSON 형식 제약조건:\n",
        "* \"product_title\" (상품 이름)\n",
        "* \"product_categories\" (상품 카테고리)\n",
        "* \"compatibility_score\" (페르소나 대비 적합성 점수, 1에서 100 사이의 정수)\n",
        "* \"reasoning\" (점수를 부여한 근거, 50단어 이내)\n",
        "* 출력은 JSON 객체 하나여야 합니다.\n",
        "\"\"\"\n",
        "\n",
        "TEMP_EVAL_PROMPT_TABLE_ID = \"temp_gemini_evaluation_prompts\"\n",
        "TEMP_EVAL_TABLE = f\"{PROJECT_ID}.{DATASET_ID}.{TEMP_EVAL_PROMPT_TABLE_ID}\"\n",
        "\n",
        "sql_get_eval_data = f\"SELECT customer_id, recommendation_rank, product_title, product_categories, gemini_persona_analysis FROM `{DATASET_ID}.temp_recommendation_details`\"\n",
        "df_eval_data = run_bq_query(sql_get_eval_data, client)\n",
        "\n",
        "if df_eval_data is not None and not df_eval_data.empty:\n",
        "    prompts_df_eval = pd.DataFrame({\n",
        "        'customer_id': df_eval_data['customer_id'],\n",
        "        'recommendation_rank': df_eval_data['recommendation_rank'],\n",
        "        'product_title': df_eval_data['product_title'],\n",
        "        'prompt': df_eval_data.apply(\n",
        "            lambda row: GEMINI_EVALUATION_PROMPT_TEMPLATE.format(\n",
        "                persona_analysis=row['gemini_persona_analysis'],\n",
        "                product_title=row['product_title'],\n",
        "                product_categories=row['product_categories']\n",
        "            ), axis=1\n",
        "        )\n",
        "    })\n",
        "\n",
        "    pandas_gbq.to_gbq(\n",
        "        prompts_df_eval,\n",
        "        f'{DATASET_ID}.{TEMP_EVAL_PROMPT_TABLE_ID}',\n",
        "        project_id=PROJECT_ID,\n",
        "        if_exists='replace',\n",
        "        location='us-central1'\n",
        "    )\n",
        "else:\n",
        "    print(\"⚠️ 평가 프롬프트를 생성할 상품 데이터가 없습니다.\")"
      ]
    },
    {
      "cell_type": "markdown",
      "id": "KkfbAi7VCtPn",
      "metadata": {
        "id": "KkfbAi7VCtPn"
      },
      "source": [
        "평가 결과를 정리해 테이블에 저장합니다."
      ]
    },
    {
      "cell_type": "code",
      "execution_count": null,
      "id": "uE-xVRhv_YYj",
      "metadata": {
        "colab": {
          "base_uri": "https://localhost:8080/",
          "height": 1000
        },
        "executionInfo": {
          "elapsed": 11865,
          "status": "ok",
          "timestamp": 1758018974256,
          "user": {
            "displayName": "",
            "userId": ""
          },
          "user_tz": -540
        },
        "id": "uE-xVRhv_YYj",
        "outputId": "12b7c4dd-dba7-4c75-f75a-dbda1fd76e96"
      },
      "outputs": [
        {
          "name": "stdout",
          "output_type": "stream",
          "text": [
            "Job f9817575-d71e-419d-8df6-d074d79d5ec5 in state RUNNING\n",
            "Query for statement type CREATE_TABLE_AS_SELECT complete.\n",
            "✅ 적합성 평가 테이블 `sigma-firmament-450004-r3.cymbal.gemini_recommendation_evaluation` 생성 완료.\n",
            "\n",
            "--- 생성된 Gemini 평가 결과 미리보기 (5개) ---\n",
            "Job b0c9d0ec-eb7b-4a85-9ad2-d9ef02e0ca57 in state DONE\n",
            "Query complete. Fetched 5 rows.\n"
          ]
        },
        {
          "data": {
            "application/vnd.google.colaboratory.intrinsic+json": {
              "summary": "{\n  \"name\": \"df_eval_results\",\n  \"rows\": 5,\n  \"fields\": [\n    {\n      \"column\": \"customer_id\",\n      \"properties\": {\n        \"dtype\": \"Int64\",\n        \"num_unique_values\": 1,\n        \"samples\": [\n          1005\n        ],\n        \"semantic_type\": \"\",\n        \"description\": \"\"\n      }\n    },\n    {\n      \"column\": \"recommendation_rank\",\n      \"properties\": {\n        \"dtype\": \"Int64\",\n        \"num_unique_values\": 3,\n        \"samples\": [\n          1\n        ],\n        \"semantic_type\": \"\",\n        \"description\": \"\"\n      }\n    },\n    {\n      \"column\": \"product_title\",\n      \"properties\": {\n        \"dtype\": \"string\",\n        \"num_unique_values\": 3,\n        \"samples\": [\n          \"Google Navy French Terry Zip Hoodie\"\n        ],\n        \"semantic_type\": \"\",\n        \"description\": \"\"\n      }\n    },\n    {\n      \"column\": \"gemini_raw_evaluation\",\n      \"properties\": {\n        \"dtype\": \"string\",\n        \"num_unique_values\": 5,\n        \"samples\": [\n          \"```json\\n{\\n  \\\"product_title\\\": \\\"Google Navy French Terry Zip Hoodie\\\",\\n  \\\"product_categories\\\": [\\n    \\\"Apparel\\\"\\n  ],\\n  \\\"compatibility_score\\\": 75,\\n  \\\"reasoning\\\": \\\"\\ud6c4\\ub4dc\\ud2f0\\ub294 \\ud3b8\\uc548\\ud568\\uacfc \\ud2b8\\ub80c\\ub514\\ud568\\uc744 \\ub3d9\\uc2dc\\uc5d0 \\ucd94\\uad6c\\ud558\\ub294 20\\ub300 \\ucd08\\uc911\\ubc18\\uc5d0\\uac8c \\uc801\\ud569\\ud569\\ub2c8\\ub2e4. Google \\ube0c\\ub79c\\ub4dc\\ub294 \\uc778\\uc9c0\\ub3c4\\uac00 \\ub192\\uc9c0\\ub9cc, \\uac00\\uaca9\\ub300\\uac00 \\uac00\\uc131\\ube44\\uc5d0 \\ubd80\\ud569\\ud558\\ub294\\uc9c0, \\ub514\\uc790\\uc778\\uc774 \\uac1c\\uc131\\uc744 \\ud45c\\ud604\\ud560 \\uc218 \\uc788\\ub294\\uc9c0\\uac00 \\uc911\\uc694\\ud569\\ub2c8\\ub2e4.\\\"\\n}\\n```\"\n        ],\n        \"semantic_type\": \"\",\n        \"description\": \"\"\n      }\n    },\n    {\n      \"column\": \"compatibility_score\",\n      \"properties\": {\n        \"dtype\": \"Int64\",\n        \"num_unique_values\": 2,\n        \"samples\": [\n          85\n        ],\n        \"semantic_type\": \"\",\n        \"description\": \"\"\n      }\n    },\n    {\n      \"column\": \"evaluation_reasoning\",\n      \"properties\": {\n        \"dtype\": \"string\",\n        \"num_unique_values\": 5,\n        \"samples\": [\n          \"\\ud6c4\\ub4dc\\ud2f0\\ub294 \\ud3b8\\uc548\\ud568\\uacfc \\ud2b8\\ub80c\\ub514\\ud568\\uc744 \\ub3d9\\uc2dc\\uc5d0 \\ucd94\\uad6c\\ud558\\ub294 20\\ub300 \\ucd08\\uc911\\ubc18\\uc5d0\\uac8c \\uc801\\ud569\\ud569\\ub2c8\\ub2e4. Google \\ube0c\\ub79c\\ub4dc\\ub294 \\uc778\\uc9c0\\ub3c4\\uac00 \\ub192\\uc9c0\\ub9cc, \\uac00\\uaca9\\ub300\\uac00 \\uac00\\uc131\\ube44\\uc5d0 \\ubd80\\ud569\\ud558\\ub294\\uc9c0, \\ub514\\uc790\\uc778\\uc774 \\uac1c\\uc131\\uc744 \\ud45c\\ud604\\ud560 \\uc218 \\uc788\\ub294\\uc9c0\\uac00 \\uc911\\uc694\\ud569\\ub2c8\\ub2e4.\"\n        ],\n        \"semantic_type\": \"\",\n        \"description\": \"\"\n      }\n    }\n  ]\n}",
              "type": "dataframe",
              "variable_name": "df_eval_results"
            },
            "text/html": [
              "\n",
              "  <div id=\"df-f8a08b32-07c5-4fa2-bc39-5d62c1f42a5c\" class=\"colab-df-container\">\n",
              "    <div>\n",
              "<style scoped>\n",
              "    .dataframe tbody tr th:only-of-type {\n",
              "        vertical-align: middle;\n",
              "    }\n",
              "\n",
              "    .dataframe tbody tr th {\n",
              "        vertical-align: top;\n",
              "    }\n",
              "\n",
              "    .dataframe thead th {\n",
              "        text-align: right;\n",
              "    }\n",
              "</style>\n",
              "<table border=\"1\" class=\"dataframe\">\n",
              "  <thead>\n",
              "    <tr style=\"text-align: right;\">\n",
              "      <th></th>\n",
              "      <th>customer_id</th>\n",
              "      <th>recommendation_rank</th>\n",
              "      <th>product_title</th>\n",
              "      <th>gemini_raw_evaluation</th>\n",
              "      <th>compatibility_score</th>\n",
              "      <th>evaluation_reasoning</th>\n",
              "    </tr>\n",
              "  </thead>\n",
              "  <tbody>\n",
              "    <tr>\n",
              "      <th>0</th>\n",
              "      <td>1005</td>\n",
              "      <td>1</td>\n",
              "      <td>Google Navy French Terry Zip Hoodie</td>\n",
              "      <td>```json\\n{\\n  \"product_title\": \"Google Navy French Terry Zip Hoodie\",\\n  \"product_categories\": [\\n    \"Apparel\"\\n  ],\\n  \"compatibility_score\": 75,\\n  \"reasoning\": \"후드티는 트렌디하고 편안함을 추구하는 20대 초중반에게 적합합니다. Google 브랜드는 인지도가 높고, 네이비 색상은 무난하여 다양한 스타일에 매치하기 용이합니다. 가격이 관건입니다.\"\\n}\\n```</td>\n",
              "      <td>75</td>\n",
              "      <td>후드티는 트렌디하고 편안함을 추구하는 20대 초중반에게 적합합니다. Google 브랜드는 인지도가 높고, 네이비 색상은 무난하여 다양한 스타일에 매치하기 용이합니다. 가격이 관건입니다.</td>\n",
              "    </tr>\n",
              "    <tr>\n",
              "      <th>1</th>\n",
              "      <td>1005</td>\n",
              "      <td>1</td>\n",
              "      <td>Google Navy French Terry Zip Hoodie</td>\n",
              "      <td>```json\\n{\\n  \"product_title\": \"Google Navy French Terry Zip Hoodie\",\\n  \"product_categories\": [\\n    \"Apparel\"\\n  ],\\n  \"compatibility_score\": 75,\\n  \"reasoning\": \"후드티는 편안함과 트렌디함을 동시에 추구하는 20대 초중반에게 적합합니다. Google 브랜드는 인지도가 높지만, 가격대가 가성비에 부합하는지, 디자인이 개성을 표현할 수 있는지가 중요합니다.\"\\n}\\n```</td>\n",
              "      <td>75</td>\n",
              "      <td>후드티는 편안함과 트렌디함을 동시에 추구하는 20대 초중반에게 적합합니다. Google 브랜드는 인지도가 높지만, 가격대가 가성비에 부합하는지, 디자인이 개성을 표현할 수 있는지가 중요합니다.</td>\n",
              "    </tr>\n",
              "    <tr>\n",
              "      <th>2</th>\n",
              "      <td>1005</td>\n",
              "      <td>2</td>\n",
              "      <td>Google Kids Playful Tee</td>\n",
              "      <td>```json\\n{\\n  \"product_title\": \"Google Kids Playful Tee\",\\n  \"product_categories\": [\\n    \"Apparel\"\\n  ],\\n  \"compatibility_score\": 75,\\n  \"reasoning\": \"티셔츠는 트렌디하고 개성을 표현하기에 적합하며, Google 브랜드는 인지도가 높습니다. 'Playful'이라는 이름은 재미와 새로운 경험 추구에 부합합니다. 다만, 가격 정보가 없어 가성비 측면은 불확실합니다.\"\\n}\\n```</td>\n",
              "      <td>75</td>\n",
              "      <td>티셔츠는 트렌디하고 개성을 표현하기에 적합하며, Google 브랜드는 인지도가 높습니다. 'Playful'이라는 이름은 재미와 새로운 경험 추구에 부합합니다. 다만, 가격 정보가 없어 가성비 측면은 불확실합니다.</td>\n",
              "    </tr>\n",
              "    <tr>\n",
              "      <th>3</th>\n",
              "      <td>1005</td>\n",
              "      <td>2</td>\n",
              "      <td>Google Kids Playful Tee</td>\n",
              "      <td>```json\\n{\\n  \"product_title\": \"Google Kids Playful Tee\",\\n  \"product_categories\": \"[Apparel]\",\\n  \"compatibility_score\": 75,\\n  \"reasoning\": \"캐주얼한 티셔츠는 20대 초중반에게 어필할 수 있으며, Google 브랜드는 인지도가 높습니다. 'Playful'이라는 단어는 재미와 경험을 추구하는 페르소나에 부합합니다. 다만, 가격과 디자인이 중요하게 작용할 것입니다.\"\\n}\\n```</td>\n",
              "      <td>75</td>\n",
              "      <td>캐주얼한 티셔츠는 20대 초중반에게 어필할 수 있으며, Google 브랜드는 인지도가 높습니다. 'Playful'이라는 단어는 재미와 경험을 추구하는 페르소나에 부합합니다. 다만, 가격과 디자인이 중요하게 작용할 것입니다.</td>\n",
              "    </tr>\n",
              "    <tr>\n",
              "      <th>4</th>\n",
              "      <td>1005</td>\n",
              "      <td>3</td>\n",
              "      <td>Google Unisex Pride Eco-Tee Black</td>\n",
              "      <td>```json\\n{\\n  \"product_title\": \"Google Unisex Pride Eco-Tee Black\",\\n  \"product_categories\": [\\n    \"Apparel\"\\n  ],\\n  \"compatibility_score\": 85,\\n  \"reasoning\": \"The t-shirt aligns well with the persona's values: it's trendy (Pride-themed), potentially affordable, and eco-friendly, appealing to their desire for sustainable consumption and self-expression. Unisex design broadens appeal.\"\\n}\\n```</td>\n",
              "      <td>85</td>\n",
              "      <td>The t-shirt aligns well with the persona's values: it's trendy (Pride-themed), potentially affordable, and eco-friendly, appealing to their desire for sustainable consumption and self-expression. Unisex design broadens appeal.</td>\n",
              "    </tr>\n",
              "  </tbody>\n",
              "</table>\n",
              "</div>\n",
              "    <div class=\"colab-df-buttons\">\n",
              "\n",
              "  <div class=\"colab-df-container\">\n",
              "    <button class=\"colab-df-convert\" onclick=\"convertToInteractive('df-f8a08b32-07c5-4fa2-bc39-5d62c1f42a5c')\"\n",
              "            title=\"Convert this dataframe to an interactive table.\"\n",
              "            style=\"display:none;\">\n",
              "\n",
              "  <svg xmlns=\"http://www.w3.org/2000/svg\" height=\"24px\" viewBox=\"0 -960 960 960\">\n",
              "    <path d=\"M120-120v-720h720v720H120Zm60-500h600v-160H180v160Zm220 220h160v-160H400v160Zm0 220h160v-160H400v160ZM180-400h160v-160H180v160Zm440 0h160v-160H620v160ZM180-180h160v-160H180v160Zm440 0h160v-160H620v160Z\"/>\n",
              "  </svg>\n",
              "    </button>\n",
              "\n",
              "  <style>\n",
              "    .colab-df-container {\n",
              "      display:flex;\n",
              "      gap: 12px;\n",
              "    }\n",
              "\n",
              "    .colab-df-convert {\n",
              "      background-color: #E8F0FE;\n",
              "      border: none;\n",
              "      border-radius: 50%;\n",
              "      cursor: pointer;\n",
              "      display: none;\n",
              "      fill: #1967D2;\n",
              "      height: 32px;\n",
              "      padding: 0 0 0 0;\n",
              "      width: 32px;\n",
              "    }\n",
              "\n",
              "    .colab-df-convert:hover {\n",
              "      background-color: #E2EBFA;\n",
              "      box-shadow: 0px 1px 2px rgba(60, 64, 67, 0.3), 0px 1px 3px 1px rgba(60, 64, 67, 0.15);\n",
              "      fill: #174EA6;\n",
              "    }\n",
              "\n",
              "    .colab-df-buttons div {\n",
              "      margin-bottom: 4px;\n",
              "    }\n",
              "\n",
              "    [theme=dark] .colab-df-convert {\n",
              "      background-color: #3B4455;\n",
              "      fill: #D2E3FC;\n",
              "    }\n",
              "\n",
              "    [theme=dark] .colab-df-convert:hover {\n",
              "      background-color: #434B5C;\n",
              "      box-shadow: 0px 1px 3px 1px rgba(0, 0, 0, 0.15);\n",
              "      filter: drop-shadow(0px 1px 2px rgba(0, 0, 0, 0.3));\n",
              "      fill: #FFFFFF;\n",
              "    }\n",
              "  </style>\n",
              "\n",
              "    <script>\n",
              "      const buttonEl =\n",
              "        document.querySelector('#df-f8a08b32-07c5-4fa2-bc39-5d62c1f42a5c button.colab-df-convert');\n",
              "      buttonEl.style.display =\n",
              "        google.colab.kernel.accessAllowed ? 'block' : 'none';\n",
              "\n",
              "      async function convertToInteractive(key) {\n",
              "        const element = document.querySelector('#df-f8a08b32-07c5-4fa2-bc39-5d62c1f42a5c');\n",
              "        const dataTable =\n",
              "          await google.colab.kernel.invokeFunction('convertToInteractive',\n",
              "                                                    [key], {});\n",
              "        if (!dataTable) return;\n",
              "\n",
              "        const docLinkHtml = 'Like what you see? Visit the ' +\n",
              "          '<a target=\"_blank\" href=https://colab.research.google.com/notebooks/data_table.ipynb>data table notebook</a>'\n",
              "          + ' to learn more about interactive tables.';\n",
              "        element.innerHTML = '';\n",
              "        dataTable['output_type'] = 'display_data';\n",
              "        await google.colab.output.renderOutput(dataTable, element);\n",
              "        const docLink = document.createElement('div');\n",
              "        docLink.innerHTML = docLinkHtml;\n",
              "        element.appendChild(docLink);\n",
              "      }\n",
              "    </script>\n",
              "  </div>\n",
              "\n",
              "\n",
              "    <div id=\"df-3e14cf46-9961-4bd3-be95-6c8a1f3a0040\">\n",
              "      <button class=\"colab-df-quickchart\" onclick=\"quickchart('df-3e14cf46-9961-4bd3-be95-6c8a1f3a0040')\"\n",
              "                title=\"Suggest charts\"\n",
              "                style=\"display:none;\">\n",
              "\n",
              "<svg xmlns=\"http://www.w3.org/2000/svg\" height=\"24px\"viewBox=\"0 0 24 24\"\n",
              "     width=\"24px\">\n",
              "    <g>\n",
              "        <path d=\"M19 3H5c-1.1 0-2 .9-2 2v14c0 1.1.9 2 2 2h14c1.1 0 2-.9 2-2V5c0-1.1-.9-2-2-2zM9 17H7v-7h2v7zm4 0h-2V7h2v10zm4 0h-2v-4h2v4z\"/>\n",
              "    </g>\n",
              "</svg>\n",
              "      </button>\n",
              "\n",
              "<style>\n",
              "  .colab-df-quickchart {\n",
              "      --bg-color: #E8F0FE;\n",
              "      --fill-color: #1967D2;\n",
              "      --hover-bg-color: #E2EBFA;\n",
              "      --hover-fill-color: #174EA6;\n",
              "      --disabled-fill-color: #AAA;\n",
              "      --disabled-bg-color: #DDD;\n",
              "  }\n",
              "\n",
              "  [theme=dark] .colab-df-quickchart {\n",
              "      --bg-color: #3B4455;\n",
              "      --fill-color: #D2E3FC;\n",
              "      --hover-bg-color: #434B5C;\n",
              "      --hover-fill-color: #FFFFFF;\n",
              "      --disabled-bg-color: #3B4455;\n",
              "      --disabled-fill-color: #666;\n",
              "  }\n",
              "\n",
              "  .colab-df-quickchart {\n",
              "    background-color: var(--bg-color);\n",
              "    border: none;\n",
              "    border-radius: 50%;\n",
              "    cursor: pointer;\n",
              "    display: none;\n",
              "    fill: var(--fill-color);\n",
              "    height: 32px;\n",
              "    padding: 0;\n",
              "    width: 32px;\n",
              "  }\n",
              "\n",
              "  .colab-df-quickchart:hover {\n",
              "    background-color: var(--hover-bg-color);\n",
              "    box-shadow: 0 1px 2px rgba(60, 64, 67, 0.3), 0 1px 3px 1px rgba(60, 64, 67, 0.15);\n",
              "    fill: var(--button-hover-fill-color);\n",
              "  }\n",
              "\n",
              "  .colab-df-quickchart-complete:disabled,\n",
              "  .colab-df-quickchart-complete:disabled:hover {\n",
              "    background-color: var(--disabled-bg-color);\n",
              "    fill: var(--disabled-fill-color);\n",
              "    box-shadow: none;\n",
              "  }\n",
              "\n",
              "  .colab-df-spinner {\n",
              "    border: 2px solid var(--fill-color);\n",
              "    border-color: transparent;\n",
              "    border-bottom-color: var(--fill-color);\n",
              "    animation:\n",
              "      spin 1s steps(1) infinite;\n",
              "  }\n",
              "\n",
              "  @keyframes spin {\n",
              "    0% {\n",
              "      border-color: transparent;\n",
              "      border-bottom-color: var(--fill-color);\n",
              "      border-left-color: var(--fill-color);\n",
              "    }\n",
              "    20% {\n",
              "      border-color: transparent;\n",
              "      border-left-color: var(--fill-color);\n",
              "      border-top-color: var(--fill-color);\n",
              "    }\n",
              "    30% {\n",
              "      border-color: transparent;\n",
              "      border-left-color: var(--fill-color);\n",
              "      border-top-color: var(--fill-color);\n",
              "      border-right-color: var(--fill-color);\n",
              "    }\n",
              "    40% {\n",
              "      border-color: transparent;\n",
              "      border-right-color: var(--fill-color);\n",
              "      border-top-color: var(--fill-color);\n",
              "    }\n",
              "    60% {\n",
              "      border-color: transparent;\n",
              "      border-right-color: var(--fill-color);\n",
              "    }\n",
              "    80% {\n",
              "      border-color: transparent;\n",
              "      border-right-color: var(--fill-color);\n",
              "      border-bottom-color: var(--fill-color);\n",
              "    }\n",
              "    90% {\n",
              "      border-color: transparent;\n",
              "      border-bottom-color: var(--fill-color);\n",
              "    }\n",
              "  }\n",
              "</style>\n",
              "\n",
              "      <script>\n",
              "        async function quickchart(key) {\n",
              "          const quickchartButtonEl =\n",
              "            document.querySelector('#' + key + ' button');\n",
              "          quickchartButtonEl.disabled = true;  // To prevent multiple clicks.\n",
              "          quickchartButtonEl.classList.add('colab-df-spinner');\n",
              "          try {\n",
              "            const charts = await google.colab.kernel.invokeFunction(\n",
              "                'suggestCharts', [key], {});\n",
              "          } catch (error) {\n",
              "            console.error('Error during call to suggestCharts:', error);\n",
              "          }\n",
              "          quickchartButtonEl.classList.remove('colab-df-spinner');\n",
              "          quickchartButtonEl.classList.add('colab-df-quickchart-complete');\n",
              "        }\n",
              "        (() => {\n",
              "          let quickchartButtonEl =\n",
              "            document.querySelector('#df-3e14cf46-9961-4bd3-be95-6c8a1f3a0040 button');\n",
              "          quickchartButtonEl.style.display =\n",
              "            google.colab.kernel.accessAllowed ? 'block' : 'none';\n",
              "        })();\n",
              "      </script>\n",
              "    </div>\n",
              "\n",
              "  <div id=\"id_31f4258a-ac99-4611-80a6-eab074feef71\">\n",
              "    <style>\n",
              "      .colab-df-generate {\n",
              "        background-color: #E8F0FE;\n",
              "        border: none;\n",
              "        border-radius: 50%;\n",
              "        cursor: pointer;\n",
              "        display: none;\n",
              "        fill: #1967D2;\n",
              "        height: 32px;\n",
              "        padding: 0 0 0 0;\n",
              "        width: 32px;\n",
              "      }\n",
              "\n",
              "      .colab-df-generate:hover {\n",
              "        background-color: #E2EBFA;\n",
              "        box-shadow: 0px 1px 2px rgba(60, 64, 67, 0.3), 0px 1px 3px 1px rgba(60, 64, 67, 0.15);\n",
              "        fill: #174EA6;\n",
              "      }\n",
              "\n",
              "      [theme=dark] .colab-df-generate {\n",
              "        background-color: #3B4455;\n",
              "        fill: #D2E3FC;\n",
              "      }\n",
              "\n",
              "      [theme=dark] .colab-df-generate:hover {\n",
              "        background-color: #434B5C;\n",
              "        box-shadow: 0px 1px 3px 1px rgba(0, 0, 0, 0.15);\n",
              "        filter: drop-shadow(0px 1px 2px rgba(0, 0, 0, 0.3));\n",
              "        fill: #FFFFFF;\n",
              "      }\n",
              "    </style>\n",
              "    <button class=\"colab-df-generate\" onclick=\"generateWithVariable('df_eval_results')\"\n",
              "            title=\"Generate code using this dataframe.\"\n",
              "            style=\"display:none;\">\n",
              "\n",
              "  <svg xmlns=\"http://www.w3.org/2000/svg\" height=\"24px\"viewBox=\"0 0 24 24\"\n",
              "       width=\"24px\">\n",
              "    <path d=\"M7,19H8.4L18.45,9,17,7.55,7,17.6ZM5,21V16.75L18.45,3.32a2,2,0,0,1,2.83,0l1.4,1.43a1.91,1.91,0,0,1,.58,1.4,1.91,1.91,0,0,1-.58,1.4L9.25,21ZM18.45,9,17,7.55Zm-12,3A5.31,5.31,0,0,0,4.9,8.1,5.31,5.31,0,0,0,1,6.5,5.31,5.31,0,0,0,4.9,4.9,5.31,5.31,0,0,0,6.5,1,5.31,5.31,0,0,0,8.1,4.9,5.31,5.31,0,0,0,12,6.5,5.46,5.46,0,0,0,6.5,12Z\"/>\n",
              "  </svg>\n",
              "    </button>\n",
              "    <script>\n",
              "      (() => {\n",
              "      const buttonEl =\n",
              "        document.querySelector('#id_31f4258a-ac99-4611-80a6-eab074feef71 button.colab-df-generate');\n",
              "      buttonEl.style.display =\n",
              "        google.colab.kernel.accessAllowed ? 'block' : 'none';\n",
              "\n",
              "      buttonEl.onclick = () => {\n",
              "        google.colab.notebook.generateWithVariable('df_eval_results');\n",
              "      }\n",
              "      })();\n",
              "    </script>\n",
              "  </div>\n",
              "\n",
              "    </div>\n",
              "  </div>\n"
            ],
            "text/plain": [
              "   customer_id  recommendation_rank                        product_title  \\\n",
              "0         1005                    1  Google Navy French Terry Zip Hoodie   \n",
              "1         1005                    1  Google Navy French Terry Zip Hoodie   \n",
              "2         1005                    2              Google Kids Playful Tee   \n",
              "3         1005                    2              Google Kids Playful Tee   \n",
              "4         1005                    3    Google Unisex Pride Eco-Tee Black   \n",
              "\n",
              "                                                                                                                                                                                                                                                                                                                                                                                            gemini_raw_evaluation  \\\n",
              "0                                                                                                                           ```json\\n{\\n  \"product_title\": \"Google Navy French Terry Zip Hoodie\",\\n  \"product_categories\": [\\n    \"Apparel\"\\n  ],\\n  \"compatibility_score\": 75,\\n  \"reasoning\": \"후드티는 트렌디하고 편안함을 추구하는 20대 초중반에게 적합합니다. Google 브랜드는 인지도가 높고, 네이비 색상은 무난하여 다양한 스타일에 매치하기 용이합니다. 가격이 관건입니다.\"\\n}\\n```   \n",
              "1                                                                                                                       ```json\\n{\\n  \"product_title\": \"Google Navy French Terry Zip Hoodie\",\\n  \"product_categories\": [\\n    \"Apparel\"\\n  ],\\n  \"compatibility_score\": 75,\\n  \"reasoning\": \"후드티는 편안함과 트렌디함을 동시에 추구하는 20대 초중반에게 적합합니다. Google 브랜드는 인지도가 높지만, 가격대가 가성비에 부합하는지, 디자인이 개성을 표현할 수 있는지가 중요합니다.\"\\n}\\n```   \n",
              "2                                                                                                                        ```json\\n{\\n  \"product_title\": \"Google Kids Playful Tee\",\\n  \"product_categories\": [\\n    \"Apparel\"\\n  ],\\n  \"compatibility_score\": 75,\\n  \"reasoning\": \"티셔츠는 트렌디하고 개성을 표현하기에 적합하며, Google 브랜드는 인지도가 높습니다. 'Playful'이라는 이름은 재미와 새로운 경험 추구에 부합합니다. 다만, 가격 정보가 없어 가성비 측면은 불확실합니다.\"\\n}\\n```   \n",
              "3                                                                                                                            ```json\\n{\\n  \"product_title\": \"Google Kids Playful Tee\",\\n  \"product_categories\": \"[Apparel]\",\\n  \"compatibility_score\": 75,\\n  \"reasoning\": \"캐주얼한 티셔츠는 20대 초중반에게 어필할 수 있으며, Google 브랜드는 인지도가 높습니다. 'Playful'이라는 단어는 재미와 경험을 추구하는 페르소나에 부합합니다. 다만, 가격과 디자인이 중요하게 작용할 것입니다.\"\\n}\\n```   \n",
              "4  ```json\\n{\\n  \"product_title\": \"Google Unisex Pride Eco-Tee Black\",\\n  \"product_categories\": [\\n    \"Apparel\"\\n  ],\\n  \"compatibility_score\": 85,\\n  \"reasoning\": \"The t-shirt aligns well with the persona's values: it's trendy (Pride-themed), potentially affordable, and eco-friendly, appealing to their desire for sustainable consumption and self-expression. Unisex design broadens appeal.\"\\n}\\n```   \n",
              "\n",
              "   compatibility_score  \\\n",
              "0                   75   \n",
              "1                   75   \n",
              "2                   75   \n",
              "3                   75   \n",
              "4                   85   \n",
              "\n",
              "                                                                                                                                                                                                                 evaluation_reasoning  \n",
              "0                                                                                                                             후드티는 트렌디하고 편안함을 추구하는 20대 초중반에게 적합합니다. Google 브랜드는 인지도가 높고, 네이비 색상은 무난하여 다양한 스타일에 매치하기 용이합니다. 가격이 관건입니다.  \n",
              "1                                                                                                                         후드티는 편안함과 트렌디함을 동시에 추구하는 20대 초중반에게 적합합니다. Google 브랜드는 인지도가 높지만, 가격대가 가성비에 부합하는지, 디자인이 개성을 표현할 수 있는지가 중요합니다.  \n",
              "2                                                                                                              티셔츠는 트렌디하고 개성을 표현하기에 적합하며, Google 브랜드는 인지도가 높습니다. 'Playful'이라는 이름은 재미와 새로운 경험 추구에 부합합니다. 다만, 가격 정보가 없어 가성비 측면은 불확실합니다.  \n",
              "3                                                                                                        캐주얼한 티셔츠는 20대 초중반에게 어필할 수 있으며, Google 브랜드는 인지도가 높습니다. 'Playful'이라는 단어는 재미와 경험을 추구하는 페르소나에 부합합니다. 다만, 가격과 디자인이 중요하게 작용할 것입니다.  \n",
              "4  The t-shirt aligns well with the persona's values: it's trendy (Pride-themed), potentially affordable, and eco-friendly, appealing to their desire for sustainable consumption and self-expression. Unisex design broadens appeal.  "
            ]
          },
          "metadata": {},
          "output_type": "display_data"
        }
      ],
      "source": [
        "table_id_evaluation_output = f\"{DATASET_ID}.gemini_recommendation_evaluation\"\n",
        "TEMP_EVAL_TABLE = f\"{PROJECT_ID}.{DATASET_ID}.{TEMP_EVAL_PROMPT_TABLE_ID}\"\n",
        "\n",
        "sql_batch_evaluation = f\"\"\"\n",
        "CREATE OR REPLACE TABLE `{PROJECT_ID}.{table_id_evaluation_output}` AS\n",
        "WITH PromptData AS (\n",
        "    SELECT\n",
        "        customer_id,\n",
        "        recommendation_rank,\n",
        "        product_title,\n",
        "        prompt\n",
        "    FROM\n",
        "        `{TEMP_EVAL_TABLE}`\n",
        "),\n",
        "GeminiOutput AS (\n",
        "    SELECT\n",
        "        ml_generate_text_llm_result AS raw_json_output,\n",
        "        prompt AS original_prompt_text\n",
        "    FROM\n",
        "        ML.GENERATE_TEXT(\n",
        "            MODEL `{GEMINI_MODEL_NAME}`,\n",
        "            (SELECT prompt FROM PromptData),\n",
        "            STRUCT(0.5 AS temperature, 1024 AS max_output_tokens, TRUE AS flatten_json_output)\n",
        "        )\n",
        "),\n",
        "JoinedOutput AS (\n",
        "    SELECT\n",
        "        t1.customer_id,\n",
        "        t1.recommendation_rank,\n",
        "        t1.product_title,\n",
        "        t2.raw_json_output\n",
        "    FROM\n",
        "        PromptData AS t1\n",
        "    JOIN\n",
        "        GeminiOutput AS t2\n",
        "        ON t1.prompt = t2.original_prompt_text\n",
        ")\n",
        "SELECT\n",
        "    j.customer_id,\n",
        "    j.recommendation_rank,\n",
        "    j.product_title,\n",
        "    j.raw_json_output AS gemini_raw_evaluation,\n",
        "    CAST(JSON_EXTRACT_SCALAR(TRIM(REGEXP_REPLACE(j.raw_json_output, r'(?i)(^```json\\\\s*|\\\\s*```$)', '')), '$.compatibility_score') AS INT64) AS compatibility_score,\n",
        "    TRIM(JSON_EXTRACT_SCALAR(TRIM(REGEXP_REPLACE(j.raw_json_output, r'(?i)(^```json\\\\s*|\\\\s*```$)', '')), '$.reasoning')) AS evaluation_reasoning\n",
        "FROM\n",
        "    JoinedOutput AS j\n",
        "ORDER BY\n",
        "    j.customer_id, j.recommendation_rank;\n",
        "\"\"\"\n",
        "\n",
        "run_bq_query(sql_batch_evaluation, client)\n",
        "print(f\"✅ 적합성 평가 테이블 `{PROJECT_ID}.{table_id_evaluation_output}` 생성 완료.\")\n",
        "\n",
        "print(\"\\n--- 생성된 Gemini 평가 결과 미리보기 (5개) ---\")\n",
        "df_eval_results = run_bq_query(f\"SELECT * FROM `{PROJECT_ID}.{table_id_evaluation_output}` LIMIT 5\", client)\n",
        "if df_eval_results is not None:\n",
        "    with pd.option_context('display.max_colwidth', 500):\n",
        "        display(df_eval_results)"
      ]
    }
  ],
  "metadata": {
    "colab": {
      "name": "task3_0909",
      "provenance": []
    },
    "kernelspec": {
      "display_name": "Python 3",
      "language": "python",
      "name": "python3"
    },
    "language_info": {
      "codemirror_mode": {
        "name": "ipython",
        "version": 3
      },
      "file_extension": ".py",
      "mimetype": "text/x-python",
      "name": "python",
      "nbconvert_exporter": "python",
      "pygments_lexer": "ipython3",
      "version": "3.10.10"
    }
  },
  "nbformat": 4,
  "nbformat_minor": 5
}
